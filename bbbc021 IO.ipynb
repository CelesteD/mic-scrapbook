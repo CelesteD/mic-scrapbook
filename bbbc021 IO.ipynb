{
 "cells": [
  {
   "cell_type": "markdown",
   "metadata": {},
   "source": [
    "Extracting bbbc021 data. <br>\n",
    "See also: \n",
    "- Adrian's analysis using handcrafted features: https://github.com/microscopium/microscopium-scripts/blob/master/bbbc021_analysis.ipynb<br>\n",
    "- Original description of bbbc021 data: https://www.broadinstitute.org/bbbc/BBBC021/"
   ]
  },
  {
   "cell_type": "code",
   "execution_count": 18,
   "metadata": {
    "collapsed": false
   },
   "outputs": [],
   "source": [
    "%matplotlib inline\n",
    "import matplotlib.pyplot as plt\n",
    "import numpy as np\n",
    "import csv\n",
    "import collections as coll\n",
    "import re\n",
    "import os\n",
    "import sys\n",
    "import time\n",
    "import math\n",
    "import pandas as pd\n",
    "\n",
    "#import toolz as tz\n",
    "#from microscopium.screens import image_xpress\n",
    "from skimage import io, img_as_float\n",
    "from sklearn.utils.extmath import cartesian as skcartesian\n",
    "\n",
    "os.chdir(\"/Users/don/Documents/hcs\")\n",
    "sys.path.append(\"/Users/don/Documents/PyModules\")\n",
    "\n",
    "import skynet.bbbc021io as xio\n",
    "import skynet.patch_extraction as pex\n",
    "import skynet.utils"
   ]
  },
  {
   "cell_type": "code",
   "execution_count": 2,
   "metadata": {
    "collapsed": false
   },
   "outputs": [],
   "source": [
    "#Load a db of plate-well, compound, concentration and moa\n",
    "#Note that this database includes NaNs\n",
    "\n",
    "labels_db = pd.read_csv(\"/Users/don/Documents/hcs/label_db2.csv\",\n",
    "                       usecols=[1,2,3,4])\n",
    "#Don't load the first column; it's just a col of indices\n",
    "#If the compound-concentration of some plate-well didn't have an moa,\n",
    "#it won't be in this database\n",
    "\n",
    "# Sample search\n",
    "result = xio.search_labels('BBBC021-40111-B03', labels_db)\n",
    "result"
   ]
  },
  {
   "cell_type": "markdown",
   "metadata": {},
   "source": [
    "<font size = 5>Extracting Image data</font><br><br>\n",
    "The main folder, 'BBBC021', has a bunch of subfolders, e.g. 'Week3_xxxx'.<br>\n",
    "The platenumber is found in the subfolder name; that's the 'xxxx'.<br>\n",
    "Each subfolder has a bunch of images; the well number is in the image name. <br><br>\n",
    "Desired output:\n",
    " - A list of patches, each row = 1 patch and its labels: [array:(20 x 20 x 3), plate-num, cc-label, moa-label]\n",
    " - Let's not unravel the patch yet."
   ]
  },
  {
   "cell_type": "code",
   "execution_count": 11,
   "metadata": {
    "collapsed": false
   },
   "outputs": [],
   "source": [
    "#Declare some params:\n",
    "csv_path = '/Users/don/Documents/BBBC021/BBBC021_parsed_metadata.csv'\n",
    "#treatments = xio.get_labels_from_csv(csv_path, verbose=True)\n",
    "\n",
    "path = '/Users/don/Documents/BBBC021'\n",
    "\n",
    "# This is a list of all subfolder names\n",
    "main_list = xio.get_main_list(path)\n",
    "\n",
    "#Declare params\n",
    "n_patches = 40\n",
    "patch_len = 20\n",
    "#Declare training/testing partition ratio. \n",
    "#Manually ensure that the division is whole.\n",
    "p = 0.6 \n",
    "#proportion of patches to be used for training\n",
    "#e.g.0.6 * 40 = 24"
   ]
  },
  {
   "cell_type": "code",
   "execution_count": 5,
   "metadata": {
    "collapsed": false
   },
   "outputs": [
    {
     "name": "stdout",
     "output_type": "stream",
     "text": [
      "1 of 55 subfolders...60 images found in subfolder\n",
      "20 images retrieved. Runtime = 18.70s\n",
      "\n",
      "2 of 55 subfolders...60 images found in subfolder\n",
      "20 images retrieved. Runtime = 17.97s\n",
      "\n",
      "3 of 55 subfolders...60 images found in subfolder\n",
      "20 images retrieved. Runtime = 17.51s\n",
      "\n",
      "4 of 55 subfolders...60 images found in subfolder\n",
      "25 images retrieved. Runtime = 17.66s\n",
      "\n",
      "5 of 55 subfolders...60 images found in subfolder\n",
      "25 images retrieved. Runtime = 17.97s\n",
      "\n",
      "6 of 55 subfolders...60 images found in subfolder\n",
      "25 images retrieved. Runtime = 17.90s\n",
      "\n",
      "7 of 55 subfolders...60 images found in subfolder\n",
      "18 images retrieved. Runtime = 18.25s\n",
      "\n",
      "8 of 55 subfolders...60 images found in subfolder\n",
      "18 images retrieved. Runtime = 18.23s\n",
      "\n",
      "9 of 55 subfolders...60 images found in subfolder\n",
      "18 images retrieved. Runtime = 18.09s\n",
      "\n",
      "10 of 55 subfolders...60 images found in subfolder\n",
      "16 images retrieved. Runtime = 16.52s\n",
      "\n",
      "11 of 55 subfolders...60 images found in subfolder\n",
      "16 images retrieved. Runtime = 16.60s\n",
      "\n",
      "12 of 55 subfolders...60 images found in subfolder\n",
      "16 images retrieved. Runtime = 17.84s\n",
      "\n",
      "13 of 55 subfolders...60 images found in subfolder\n",
      "14 images retrieved. Runtime = 18.55s\n",
      "\n",
      "14 of 55 subfolders...60 images found in subfolder\n",
      "14 images retrieved. Runtime = 17.10s\n",
      "\n",
      "15 of 55 subfolders...60 images found in subfolder\n",
      "14 images retrieved. Runtime = 17.26s\n",
      "\n",
      "16 of 55 subfolders...60 images found in subfolder\n",
      "32 images retrieved. Runtime = 17.20s\n",
      "\n",
      "17 of 55 subfolders...60 images found in subfolder\n",
      "32 images retrieved. Runtime = 19.36s\n",
      "\n",
      "18 of 55 subfolders...60 images found in subfolder\n",
      "32 images retrieved. Runtime = 20.62s\n",
      "\n",
      "19 of 55 subfolders...60 images found in subfolder\n",
      "21 images retrieved. Runtime = 20.53s\n",
      "\n",
      "20 of 55 subfolders...60 images found in subfolder\n",
      "21 images retrieved. Runtime = 20.45s\n",
      "\n",
      "21 of 55 subfolders...60 images found in subfolder\n",
      "21 images retrieved. Runtime = 20.69s\n",
      "\n",
      "22 of 55 subfolders...60 images found in subfolder\n",
      "14 images retrieved. Runtime = 18.39s\n",
      "\n",
      "23 of 55 subfolders...60 images found in subfolder\n",
      "14 images retrieved. Runtime = 18.27s\n",
      "\n",
      "24 of 55 subfolders...60 images found in subfolder\n",
      "14 images retrieved. Runtime = 18.88s\n",
      "\n",
      "25 of 55 subfolders...60 images found in subfolder\n",
      "22 images retrieved. Runtime = 18.71s\n",
      "\n",
      "26 of 55 subfolders...60 images found in subfolder\n",
      "22 images retrieved. Runtime = 18.08s\n",
      "\n",
      "27 of 55 subfolders...60 images found in subfolder\n",
      "22 images retrieved. Runtime = 19.44s\n",
      "\n",
      "28 of 55 subfolders...60 images found in subfolder\n",
      "15 images retrieved. Runtime = 17.15s\n",
      "\n",
      "29 of 55 subfolders...60 images found in subfolder\n",
      "15 images retrieved. Runtime = 17.67s\n",
      "\n",
      "30 of 55 subfolders...60 images found in subfolder\n",
      "15 images retrieved. Runtime = 17.63s\n",
      "\n",
      "31 of 55 subfolders...60 images found in subfolder\n",
      "12 images retrieved. Runtime = 17.47s\n",
      "\n",
      "32 of 55 subfolders...60 images found in subfolder\n",
      "12 images retrieved. Runtime = 18.15s\n",
      "\n",
      "33 of 55 subfolders...60 images found in subfolder\n",
      "12 images retrieved. Runtime = 20.07s\n",
      "\n",
      "34 of 55 subfolders...60 images found in subfolder\n",
      "13 images retrieved. Runtime = 18.41s\n",
      "\n",
      "35 of 55 subfolders...60 images found in subfolder\n",
      "13 images retrieved. Runtime = 17.67s\n",
      "\n",
      "36 of 55 subfolders...60 images found in subfolder\n",
      "13 images retrieved. Runtime = 19.19s\n",
      "\n",
      "37 of 55 subfolders...60 images found in subfolder\n",
      "12 images retrieved. Runtime = 18.00s\n",
      "\n",
      "38 of 55 subfolders...60 images found in subfolder\n",
      "12 images retrieved. Runtime = 18.51s\n",
      "\n",
      "39 of 55 subfolders...60 images found in subfolder\n",
      "12 images retrieved. Runtime = 17.60s\n",
      "\n",
      "40 of 55 subfolders...60 images found in subfolder\n",
      "17 images retrieved. Runtime = 18.78s\n",
      "\n",
      "41 of 55 subfolders...60 images found in subfolder\n",
      "17 images retrieved. Runtime = 17.42s\n",
      "\n",
      "42 of 55 subfolders...60 images found in subfolder\n",
      "17 images retrieved. Runtime = 18.88s\n",
      "\n",
      "43 of 55 subfolders...60 images found in subfolder\n",
      "17 images retrieved. Runtime = 19.19s\n",
      "\n",
      "44 of 55 subfolders...60 images found in subfolder\n",
      "17 images retrieved. Runtime = 18.73s\n",
      "\n",
      "45 of 55 subfolders...60 images found in subfolder\n",
      "15 images retrieved. Runtime = 16.49s\n",
      "\n",
      "46 of 55 subfolders...60 images found in subfolder\n",
      "15 images retrieved. Runtime = 19.00s\n",
      "\n",
      "47 of 55 subfolders...60 images found in subfolder\n",
      "15 images retrieved. Runtime = 17.52s\n",
      "\n",
      "48 of 55 subfolders...60 images found in subfolder\n",
      "14 images retrieved. Runtime = 17.62s\n",
      "\n",
      "49 of 55 subfolders...60 images found in subfolder\n",
      "14 images retrieved. Runtime = 16.88s\n",
      "\n",
      "50 of 55 subfolders...60 images found in subfolder\n",
      "15 images retrieved. Runtime = 17.39s\n",
      "\n",
      "51 of 55 subfolders...60 images found in subfolder\n",
      "15 images retrieved. Runtime = 17.77s\n",
      "\n",
      "52 of 55 subfolders...60 images found in subfolder\n",
      "15 images retrieved. Runtime = 18.43s\n",
      "\n",
      "53 of 55 subfolders...60 images found in subfolder\n",
      "19 images retrieved. Runtime = 19.26s\n",
      "\n",
      "54 of 55 subfolders...60 images found in subfolder\n",
      "19 images retrieved. Runtime = 18.63s\n",
      "\n",
      "55 of 55 subfolders...60 images found in subfolder\n",
      "19 images retrieved. Runtime = 18.96s\n",
      "\n",
      "All done in 0:16:45\n",
      "962 images used\n"
     ]
    }
   ],
   "source": [
    "#Takes about 17 mins\n",
    "t0 = time.time()\n",
    "main_data_list = []\n",
    "\n",
    "idx = 1\n",
    "img_counter = 0\n",
    "for sf in main_list:\n",
    "    t_i = time.time()\n",
    "    subpath = path + '/' + sf\n",
    "    print(\"%s of %s subfolders...\" % (idx, len(main_list))\n",
    "          , end=\"\")\n",
    "    sf_data_list_temp = xio.get_subfolder_patch_data(subpath, \n",
    "                                             n_patches, \n",
    "                                             patch_len, \n",
    "                                             labels_db, \n",
    "                                             verbose=1)\n",
    "    print(\"%s images retrieved. \" % len(sf_data_list_temp), end=\"\")\n",
    "    img_counter = img_counter + len(sf_data_list_temp)\n",
    "    main_data_list = main_data_list + sf_data_list_temp\n",
    "    idx +=1\n",
    "    print(\"Runtime = %.2fs\" % (time.time() - t_i))\n",
    "\n",
    "dt = time.time() - t0\n",
    "m, s = divmod(dt, 60)\n",
    "h, m = divmod(m, 60)\n",
    "print(\"All done in %d:%02d:%02d\" % (h, m, s))\n",
    "print(\"%s images used\" % img_counter)\n",
    "#Maybe remove all subfolder-level comments in get_subfolder_patch_data?"
   ]
  },
  {
   "cell_type": "code",
   "execution_count": 6,
   "metadata": {
    "collapsed": false
   },
   "outputs": [],
   "source": [
    "data_list = np.array(main_data_list)"
   ]
  },
  {
   "cell_type": "code",
   "execution_count": 2,
   "metadata": {
    "collapsed": false
   },
   "outputs": [],
   "source": [
    "#data_list = np.load('bbbc021_data_6July.npy')"
   ]
  },
  {
   "cell_type": "markdown",
   "metadata": {},
   "source": [
    "Our data is currently in the format of an np array, shape(n_images, 5)\n",
    "- mydata[0]: all n_patches patches extracted from each image. Shape (n_patches, patchlen, patchlen, 3)\n",
    "- mydata[1]: plate-well coords\n",
    "- mydata[2]: compound\n",
    "- mydata[3]: concentration\n",
    "- mydata[4]: moa\n",
    "\n",
    "Now let's partition into training and testing data, according to a ratio specified above. Desired output: a list of length 4:\n",
    "- list[0]: training patches\n",
    "- list[1]: moa label of training patches\n",
    "- list[2]: testing patches\n",
    "- list[3]: moa label of testing patches"
   ]
  },
  {
   "cell_type": "code",
   "execution_count": 17,
   "metadata": {
    "collapsed": false
   },
   "outputs": [
    {
     "name": "stdout",
     "output_type": "stream",
     "text": [
      "Summary Stats\n",
      "-------------\n",
      "40 patches * 962 images = 38480 patches altogether\n",
      "23088 patches (24 patches per image) allocate to training data\n",
      "15392 patches (16 patches per image) allocate to testing data\n",
      "(23088, 20, 20, 3) (23088,)\n",
      "(15392, 20, 20, 3) (15392,)\n"
     ]
    }
   ],
   "source": [
    "x_train = []\n",
    "label_train = []\n",
    "x_test = []\n",
    "label_test = []\n",
    "\n",
    "n_trg = int(p*n_patches)\n",
    "n_test = int(n_patches - n_trg)\n",
    "\n",
    "for i in range(len(data_list)): #for each image\n",
    "    patches_trg = list(data_list[i][0][:n_trg])\n",
    "    labels1 = [data_list[i][4]]*(n_trg)\n",
    "    patches_test = list(data_list[i][0][n_trg:])\n",
    "    labels2 = [data_list[i][4]]*(n_test)\n",
    "    \n",
    "    x_train = x_train + patches_trg\n",
    "    x_test = x_test + patches_test\n",
    "    label_train = label_train + labels1\n",
    "    label_test = label_test +labels2\n",
    "    \n",
    "x_train = np.array(x_train)\n",
    "x_test = np.array(x_test)\n",
    "label_train = np.array(label_train)\n",
    "label_test = np.array(label_test)\n",
    "\n",
    "print(\"Summary Stats\")\n",
    "print(\"-\"*13)\n",
    "print(\"%s patches * %s images = %s patches altogether\" % \n",
    "      (n_patches, len(data_list), n_patches*len(data_list)))\n",
    "print(\"%s patches (%s patches per image) allocate to training data\" % \n",
    "     (n_trg*len(data_list), n_trg))\n",
    "print(\"%s patches (%s patches per image) allocate to testing data\" % \n",
    "     (n_test*len(data_list), n_test))\n",
    "print(x_train.shape, label_train.shape)\n",
    "print(x_test.shape, label_test.shape)"
   ]
  },
  {
   "cell_type": "code",
   "execution_count": 22,
   "metadata": {
    "collapsed": false
   },
   "outputs": [],
   "source": [
    "np.save(\"x_train\", x_train)\n",
    "np.save(\"label_train\", label_train)\n",
    "np.save(\"x_test\", x_test)\n",
    "np.save(\"label_test\", label_test)"
   ]
  },
  {
   "cell_type": "code",
   "execution_count": null,
   "metadata": {
    "collapsed": false
   },
   "outputs": [],
   "source": []
  },
  {
   "cell_type": "code",
   "execution_count": null,
   "metadata": {
    "collapsed": true
   },
   "outputs": [],
   "source": []
  },
  {
   "cell_type": "code",
   "execution_count": null,
   "metadata": {
    "collapsed": false
   },
   "outputs": [],
   "source": []
  },
  {
   "cell_type": "code",
   "execution_count": null,
   "metadata": {
    "collapsed": true
   },
   "outputs": [],
   "source": []
  }
 ],
 "metadata": {
  "kernelspec": {
   "display_name": "Python 3",
   "language": "python",
   "name": "python3"
  },
  "language_info": {
   "codemirror_mode": {
    "name": "ipython",
    "version": 3
   },
   "file_extension": ".py",
   "mimetype": "text/x-python",
   "name": "python",
   "nbconvert_exporter": "python",
   "pygments_lexer": "ipython3",
   "version": "3.5.1"
  }
 },
 "nbformat": 4,
 "nbformat_minor": 0
}
