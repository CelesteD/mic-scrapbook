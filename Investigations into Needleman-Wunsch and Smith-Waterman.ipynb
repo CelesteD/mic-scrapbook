{
 "cells": [
  {
   "cell_type": "markdown",
   "metadata": {},
   "source": [
    "An excellent formal treatment from https://liorpachter.wordpress.com/2013/09/21/the-needleman-wunsch-algorithm/<br>\n",
    "Note that here, a 'match' is regarded as a semantically 'positive' event, such that 'mismatch' and 'space' get negative scores. In that case, the recursive function uses a max. The other way round, where 'match' is a '0' and mismatches and gaps get positive numbers, the recursive function uses a min."
   ]
  },
  {
   "cell_type": "code",
   "execution_count": 1,
   "metadata": {
    "collapsed": true
   },
   "outputs": [],
   "source": [
    "import numpy as np"
   ]
  },
  {
   "cell_type": "code",
   "execution_count": 16,
   "metadata": {
    "collapsed": false
   },
   "outputs": [],
   "source": [
    "def NW_mxs(a, b, method='bool', m=1, x=-1, s=-1):\n",
    "    \"\"\"Take 2 strings, a and b, of lengths n1 and n2\n",
    "    And compute NW edit distance between them\n",
    "    Compute a matrix S of shape n1+1 by n2+1, \n",
    "    and recursively fill it.\n",
    "    \n",
    "    Params\n",
    "    ------\n",
    "    a, b: input strings\n",
    "    m: int, match score\n",
    "    x: int, mismatch score\n",
    "    s: int, 'gap' score\n",
    "    \n",
    "    Returns\n",
    "    -------\n",
    "    H: edit distance matrix\n",
    "    tr: traceback matrix\n",
    "    \"\"\"\n",
    "    n1 = len(a)\n",
    "    n2 = len(b)\n",
    "    H = np.zeros([n1+1,n2+1])\n",
    "    dt = np.dtype(\"i4, i4\")\n",
    "    tb = np.zeros([n1+1,n2+1], dtype=dt)\n",
    "\n",
    "    for i in range(1,n1+1):\n",
    "        H[i][0] = i*s\n",
    "    for j in range(1,n2+1):\n",
    "        H[0][j] = j*s\n",
    "    \n",
    "    if method == 'bool':\n",
    "        for i in range(1, n1+1):\n",
    "            for j in range(1, n2+1):\n",
    "                H[i][j] = max(H[i-1][j] + s, \n",
    "                              H[i][j-1] + s,\n",
    "                              H[i-1][j-1] + x*is_match(a[i-1], b[j-1]))\n",
    "                #Fill in a traceback matrix\n",
    "                #In case of a tie, priority is given to a match.\n",
    "                if H[i][j] == H[i-1][j-1] + x*is_match(a[i-1], b[j-1]):\n",
    "                    tb[i][j] = (-1, -1)\n",
    "                elif H[i][j] == H[i-1][j] + s:\n",
    "                    tb[i][j] = (-1, 0)\n",
    "                elif H[i][j] == H[i][j-1] + s:\n",
    "                    tb[i][j] = (0, -1)\n",
    "                    \n",
    "    elif method == 'match_mismatch':\n",
    "        for i in range(1, n1+1):\n",
    "            for j in range(1, n2+1):\n",
    "                H[i][j] = max(H[i-1][j] + s, \n",
    "                              H[i][j-1] + s,\n",
    "                              H[i-1][j-1] + _match_mismatch(a[i-1],b[j-1],m,x))\n",
    "                #Fill in a traceback matrix\n",
    "                #In case of a tie, priority is given to a match.\n",
    "                if H[i][j] == (H[i-1][j-1] + _match_mismatch(a[i-1],b[j-1],m,x)):\n",
    "                    tb[i][j] = (-1, -1)\n",
    "                elif H[i][j] == H[i-1][j] + s:\n",
    "                    tb[i][j] = (-1, 0)\n",
    "                elif H[i][j] == H[i][j-1] + s:\n",
    "                    tb[i][j] = (0, -1)\n",
    "    \n",
    "    return H, tb\n",
    "\n",
    "def NW_match_mismatch(a, b, m=1, x=-1, s=-1):\n",
    "    \"\"\"Take 2 strings, a and b, of lengths n1 and n2\n",
    "    And compute NW edit distance between them\n",
    "    Compute a matrix S of shape n1+1 by n2+1, \n",
    "    and recursively fill it.\n",
    "    \n",
    "    Params\n",
    "    ------\n",
    "    a, b: input strings\n",
    "    m: int, match score\n",
    "    x: int, mismatch score\n",
    "    s: int, 'gap' score\n",
    "    \n",
    "    Returns\n",
    "    -------\n",
    "    H: edit distance matrix\n",
    "    tr: traceback matrix\n",
    "    \"\"\"\n",
    "    n1 = len(a)\n",
    "    n2 = len(b)\n",
    "    H = np.zeros([n1+1,n2+1])\n",
    "    dt = np.dtype(\"i4, i4\")\n",
    "    tb = np.zeros([n1+1,n2+1], dtype=dt)\n",
    "\n",
    "    for i in range(1,n1+1):\n",
    "        H[i][0] = i*s\n",
    "    for j in range(1,n2+1):\n",
    "        H[0][j] = j*s\n",
    "                    \n",
    "    for i in range(1, n1+1):\n",
    "        for j in range(1, n2+1):\n",
    "            H[i][j] = max(H[i-1][j] + s, \n",
    "                          H[i][j-1] + s,\n",
    "                          H[i-1][j-1] + _match_mismatch(a[i-1],b[j-1],m,x))\n",
    "            #Fill in a traceback matrix\n",
    "            #In case of a tie, priority is given to a match.\n",
    "            if H[i][j] == (H[i-1][j-1] + _match_mismatch(a[i-1],b[j-1],m,x)):\n",
    "                tb[i][j] = (-1, -1)\n",
    "            elif H[i][j] == H[i-1][j] + s:\n",
    "                tb[i][j] = (-1, 0)\n",
    "            elif H[i][j] == H[i][j-1] + s:\n",
    "                tb[i][j] = (0, -1)\n",
    "    \n",
    "    return H, tb\n",
    "\n",
    "\n",
    "def SW(a, b, m=1, s=-1, x=-1):\n",
    "    n1 = len(a)\n",
    "    n2 = len(b)\n",
    "    H = np.zeros([n1+1,n2+1])\n",
    "    dt = np.dtype(\"i4, i4\")\n",
    "    tb = np.zeros([n1+1,n2+1], dtype=dt)\n",
    "\n",
    "    for i in range(1,n1+1):\n",
    "        H[i][0] = 0\n",
    "    for j in range(1,n2+1):\n",
    "        H[0][j] = 0\n",
    "        \n",
    "    for i in range(1, n1+1):\n",
    "        for j in range(1, n2+1):\n",
    "            H[i][j] = max(H[i-1][j] + s, \n",
    "                          H[i][j-1] + s,\n",
    "                          H[i-1][j-1] + _match_mismatch(a[i-1],b[j-1],m,x),\n",
    "                         0)\n",
    "            #Fill in a traceback matrix\n",
    "            #In case of a tie, priority is given to a match.\n",
    "            if H[i][j] == (H[i-1][j-1] + _match_mismatch(a[i-1],b[j-1],m,x)):\n",
    "                tb[i][j] = (-1, -1)\n",
    "            elif H[i][j] == H[i-1][j] + s:\n",
    "                tb[i][j] = (-1, 0)\n",
    "            elif H[i][j] == H[i][j-1] + s:\n",
    "                tb[i][j] = (0, -1)\n",
    "    \n",
    "    return H\n",
    "\n",
    "\n",
    "def NW_kt(a, b, m=0, ins=1, dl=1, s=1, verbose=False):\n",
    "    n1 = len(a)\n",
    "    n2 = len(b)\n",
    "    H = np.zeros([n1+1,n2+1])\n",
    "    dt = np.dtype(\"i4, i4\")\n",
    "    tb = np.zeros([n1+1,n2+1], dtype=dt)\n",
    "    \n",
    "    if verbose:\n",
    "        print(\"{m, i, d, s} = (%s, %s, %s, %s)\"% (m, ins, dl, s))\n",
    "\n",
    "    for i in range(1,n1+1):\n",
    "        H[i][0] = i*ins\n",
    "    for j in range(1,n2+1):\n",
    "        H[0][j] = j*dl\n",
    "        \n",
    "    for i in range(1, n1+1):\n",
    "        for j in range(1, n2+1):\n",
    "            H[i][j] = min(H[i-1][j] + dl, \n",
    "                          H[i][j-1] + ins,\n",
    "                          H[i-1][j-1] + _match_mismatch(a[i-1],b[j-1],m,s))\n",
    "            #Fill in a traceback matrix\n",
    "            #In case of a tie, priority is given to a match.\n",
    "            if H[i][j] == (H[i-1][j-1] + _match_mismatch(a[i-1],b[j-1],m,s)):\n",
    "                tb[i][j] = (-1, -1)\n",
    "            elif H[i][j] == H[i-1][j] + dl:\n",
    "                tb[i][j] = (-1, 0)\n",
    "            elif H[i][j] == H[i][j-1] + ins:\n",
    "                tb[i][j] = (0, -1)\n",
    "    \n",
    "    return H\n",
    "\n",
    "\n",
    "def is_match(x1,x2):\n",
    "    \"\"\"returns 1 if x1 == x2, 0 otherwise\"\"\"\n",
    "    match = 0\n",
    "    if x1 == x2:\n",
    "        match = 1\n",
    "        \n",
    "    return match\n",
    "\n",
    "def _match_mismatch(x1, x2, m, x):\n",
    "    \"\"\"Returns m if x1 == x2, x otherwise\"\"\"\n",
    "    score = 0\n",
    "    if x1 == x2:\n",
    "        score = m\n",
    "    else:\n",
    "        score = x\n",
    "    return score"
   ]
  },
  {
   "cell_type": "code",
   "execution_count": 3,
   "metadata": {
    "collapsed": false
   },
   "outputs": [],
   "source": [
    "a = 'gaattacaa'\n",
    "b = 'gattacaa'\n",
    "\n",
    "m = 1 #match score\n",
    "x = -1 #mismatch score\n",
    "s = -1 #gap\n",
    "\n",
    "H, tr = NW_mxs(a,b,method='bool')\n",
    "H2, tr2 = NW_match_mismatch(a,b)"
   ]
  },
  {
   "cell_type": "code",
   "execution_count": 4,
   "metadata": {
    "collapsed": false
   },
   "outputs": [
    {
     "data": {
      "text/plain": [
       "array([[ 0., -1., -2., -3., -4., -5., -6., -7., -8.],\n",
       "       [-1., -1., -1., -2., -3., -4., -5., -6., -7.],\n",
       "       [-2., -1., -2., -1., -2., -3., -4., -5., -6.],\n",
       "       [-3., -2., -2., -2., -1., -2., -3., -4., -5.],\n",
       "       [-4., -3., -2., -3., -2., -1., -2., -3., -4.],\n",
       "       [-5., -4., -3., -3., -3., -2., -1., -2., -3.],\n",
       "       [-6., -5., -4., -3., -3., -3., -2., -2., -3.],\n",
       "       [-7., -6., -5., -4., -3., -3., -3., -2., -2.],\n",
       "       [-8., -7., -6., -5., -4., -4., -3., -3., -3.],\n",
       "       [-9., -8., -7., -6., -5., -5., -4., -4., -4.]])"
      ]
     },
     "execution_count": 4,
     "metadata": {},
     "output_type": "execute_result"
    }
   ],
   "source": [
    "H #similarity function s(a,b): 1 if the letters a == b, 0 otherwise. "
   ]
  },
  {
   "cell_type": "code",
   "execution_count": 5,
   "metadata": {
    "collapsed": false
   },
   "outputs": [
    {
     "data": {
      "text/plain": [
       "array([[ 0., -1., -2., -3., -4., -5., -6., -7., -8.],\n",
       "       [-1.,  1.,  0., -1., -2., -3., -4., -5., -6.],\n",
       "       [-2.,  0.,  2.,  1.,  0., -1., -2., -3., -4.],\n",
       "       [-3., -1.,  1.,  1.,  0.,  1.,  0., -1., -2.],\n",
       "       [-4., -2.,  0.,  2.,  2.,  1.,  0., -1., -2.],\n",
       "       [-5., -3., -1.,  1.,  3.,  2.,  1.,  0., -1.],\n",
       "       [-6., -4., -2.,  0.,  2.,  4.,  3.,  2.,  1.],\n",
       "       [-7., -5., -3., -1.,  1.,  3.,  5.,  4.,  3.],\n",
       "       [-8., -6., -4., -2.,  0.,  2.,  4.,  6.,  5.],\n",
       "       [-9., -7., -5., -3., -1.,  1.,  3.,  5.,  7.]])"
      ]
     },
     "execution_count": 5,
     "metadata": {},
     "output_type": "execute_result"
    }
   ],
   "source": [
    "H2 #similarity function s(a,b): 1 if the letters a == b, -1 otherwise. "
   ]
  },
  {
   "cell_type": "code",
   "execution_count": 6,
   "metadata": {
    "collapsed": false
   },
   "outputs": [],
   "source": [
    "a = 'xyabcyz'\n",
    "b = 'prabcrs'\n",
    "H3 = SW(a,b)"
   ]
  },
  {
   "cell_type": "code",
   "execution_count": 7,
   "metadata": {
    "collapsed": false
   },
   "outputs": [
    {
     "data": {
      "text/plain": [
       "array([[ 0.,  0.,  0.,  0.,  0.,  0.,  0.,  0.],\n",
       "       [ 0.,  0.,  0.,  0.,  0.,  0.,  0.,  0.],\n",
       "       [ 0.,  0.,  0.,  0.,  0.,  0.,  0.,  0.],\n",
       "       [ 0.,  0.,  0.,  1.,  0.,  0.,  0.,  0.],\n",
       "       [ 0.,  0.,  0.,  0.,  2.,  1.,  0.,  0.],\n",
       "       [ 0.,  0.,  0.,  0.,  1.,  3.,  2.,  1.],\n",
       "       [ 0.,  0.,  0.,  0.,  0.,  2.,  2.,  1.],\n",
       "       [ 0.,  0.,  0.,  0.,  0.,  1.,  1.,  1.]])"
      ]
     },
     "execution_count": 7,
     "metadata": {},
     "output_type": "execute_result"
    }
   ],
   "source": [
    "H3"
   ]
  },
  {
   "cell_type": "code",
   "execution_count": 17,
   "metadata": {
    "collapsed": false
   },
   "outputs": [
    {
     "name": "stdout",
     "output_type": "stream",
     "text": [
      "{m, i, d, s} = (0, 5, 1, 1)\n"
     ]
    },
    {
     "data": {
      "text/plain": [
       "array([[  0.,   1.,   2.,   3.,   4.],\n",
       "       [  5.,   0.,   2.,   3.,   4.],\n",
       "       [ 10.,   1.,   0.,   3.,   4.],\n",
       "       [ 15.,   2.,   1.,   1.,   3.]])"
      ]
     },
     "execution_count": 17,
     "metadata": {},
     "output_type": "execute_result"
    }
   ],
   "source": [
    "a = 'bed'\n",
    "b = 'bead'\n",
    "NW_kt(a,b,ins=5, verbose=True)"
   ]
  },
  {
   "cell_type": "code",
   "execution_count": null,
   "metadata": {
    "collapsed": true
   },
   "outputs": [],
   "source": [
    " "
   ]
  }
 ],
 "metadata": {
  "kernelspec": {
   "display_name": "Python 3",
   "language": "python",
   "name": "python3"
  },
  "language_info": {
   "codemirror_mode": {
    "name": "ipython",
    "version": 3
   },
   "file_extension": ".py",
   "mimetype": "text/x-python",
   "name": "python",
   "nbconvert_exporter": "python",
   "pygments_lexer": "ipython3",
   "version": "3.5.1"
  }
 },
 "nbformat": 4,
 "nbformat_minor": 0
}
